{
 "cells": [
  {
   "cell_type": "code",
   "execution_count": 1,
   "id": "ed4db3be",
   "metadata": {},
   "outputs": [
    {
     "name": "stdout",
     "output_type": "stream",
     "text": [
      "Requirement already satisfied: scapy in c:\\users\\lenovo\\anaconda3\\lib\\site-packages (2.6.1)Note: you may need to restart the kernel to use updated packages.\n",
      "\n"
     ]
    }
   ],
   "source": [
    "pip install scapy"
   ]
  },
  {
   "cell_type": "code",
   "execution_count": 2,
   "id": "65a29790",
   "metadata": {},
   "outputs": [
    {
     "name": "stdout",
     "output_type": "stream",
     "text": [
      "Here's what our packet looks like:\n",
      "###[ IP ]###\n",
      "  version   = 4\n",
      "  ihl       = None\n",
      "  tos       = 0x0\n",
      "  len       = None\n",
      "  id        = 1\n",
      "  flags     = \n",
      "  frag      = 0\n",
      "  ttl       = 64\n",
      "  proto     = ip\n",
      "  chksum    = None\n",
      "  src       = 10.205.143.20\n",
      "  dst       = 8.8.8.8\n",
      "  \\options   \\\n",
      "\n",
      "None\n"
     ]
    }
   ],
   "source": [
    "\n",
    "from scapy.all import *\n",
    "\n",
    "# Create a simple IP packet (like writing an address on an envelope)\n",
    "packet = IP(dst=\"8.8.8.8\")  # Google's DNS server\n",
    "print(\"Here's what our packet looks like:\")\n",
    "print(packet.show())\n",
    "                "
   ]
  },
  {
   "cell_type": "code",
   "execution_count": 3,
   "id": "45f86a57",
   "metadata": {},
   "outputs": [
    {
     "name": "stdout",
     "output_type": "stream",
     "text": [
      "Ping packet structure:\n",
      "###[ IP ]###\n",
      "  version   = 4\n",
      "  ihl       = None\n",
      "  tos       = 0x0\n",
      "  len       = None\n",
      "  id        = 1\n",
      "  flags     = \n",
      "  frag      = 0\n",
      "  ttl       = 64\n",
      "  proto     = icmp\n",
      "  chksum    = None\n",
      "  src       = 10.205.143.20\n",
      "  dst       = 8.8.8.8\n",
      "  \\options   \\\n",
      "###[ ICMP ]###\n",
      "     type      = echo-request\n",
      "     code      = 0\n",
      "     chksum    = None\n",
      "     id        = 0x0\n",
      "     seq       = 0x0\n",
      "     unused    = b''\n",
      "\n",
      "None\n",
      "Sending ping to Google...\n",
      "\n",
      "Received 144 packets, got 1 answers, remaining 0 packets\n",
      "Google responded!\n",
      "###[ IP ]###\n",
      "  version   = 4\n",
      "  ihl       = 5\n",
      "  tos       = 0x0\n",
      "  len       = 28\n",
      "  id        = 0\n",
      "  flags     = \n",
      "  frag      = 0\n",
      "  ttl       = 113\n",
      "  proto     = icmp\n",
      "  chksum    = 0x9ff0\n",
      "  src       = 8.8.8.8\n",
      "  dst       = 10.205.143.20\n",
      "  \\options   \\\n",
      "###[ ICMP ]###\n",
      "     type      = echo-reply\n",
      "     code      = 0\n",
      "     chksum    = 0x0\n",
      "     id        = 0x0\n",
      "     seq       = 0x0\n",
      "     unused    = b''\n",
      "\n",
      "None\n"
     ]
    }
   ],
   "source": [
    "# Let's add a ping request (like knocking on someone's door)\n",
    "ping_packet = IP(dst=\"8.8.8.8\") / ICMP()\n",
    "\n",
    "print(\"Ping packet structure:\")\n",
    "print(ping_packet.show())\n",
    "\n",
    "# Send the packet and wait for a response\n",
    "print(\"Sending ping to Google...\")\n",
    "response = sr1(ping_packet, timeout=2)\n",
    "\n",
    "if response:\n",
    "    print(\"Google responded!\")\n",
    "    print(response.show())\n",
    "else:\n",
    "    print(\"No response received\")\n",
    "                "
   ]
  },
  {
   "cell_type": "code",
   "execution_count": null,
   "id": "9dbf4b97",
   "metadata": {},
   "outputs": [
    {
     "name": "stdout",
     "output_type": "stream",
     "text": [
      "📍 Your network appears to be: 10.205.143.0/24\n",
      "🔍 Scanning 10.205.143.0/24 for active computers...\n"
     ]
    },
    {
     "name": "stderr",
     "output_type": "stream",
     "text": [
      "WARNING: MAC address to reach destination not found. Using broadcast.\n",
      "WARNING: MAC address to reach destination not found. Using broadcast.\n",
      "WARNING: MAC address to reach destination not found. Using broadcast.\n",
      "WARNING: MAC address to reach destination not found. Using broadcast.\n",
      "WARNING: MAC address to reach destination not found. Using broadcast.\n",
      "WARNING: MAC address to reach destination not found. Using broadcast.\n",
      "WARNING: MAC address to reach destination not found. Using broadcast.\n",
      "WARNING: MAC address to reach destination not found. Using broadcast.\n",
      "WARNING: MAC address to reach destination not found. Using broadcast.\n",
      "WARNING: MAC address to reach destination not found. Using broadcast.\n",
      "WARNING: MAC address to reach destination not found. Using broadcast.\n",
      "WARNING: MAC address to reach destination not found. Using broadcast.\n",
      "WARNING: MAC address to reach destination not found. Using broadcast.\n",
      "WARNING: MAC address to reach destination not found. Using broadcast.\n",
      "WARNING: MAC address to reach destination not found. Using broadcast.\n",
      "WARNING: MAC address to reach destination not found. Using broadcast.\n",
      "WARNING: MAC address to reach destination not found. Using broadcast.\n",
      "WARNING: MAC address to reach destination not found. Using broadcast.\n",
      "WARNING: MAC address to reach destination not found. Using broadcast.\n"
     ]
    },
    {
     "name": "stdout",
     "output_type": "stream",
     "text": [
      "✅ Found active computer: 10.205.143.20\n"
     ]
    },
    {
     "name": "stderr",
     "output_type": "stream",
     "text": [
      "WARNING: MAC address to reach destination not found. Using broadcast.\n",
      "WARNING: MAC address to reach destination not found. Using broadcast.\n",
      "WARNING: MAC address to reach destination not found. Using broadcast.\n",
      "WARNING: MAC address to reach destination not found. Using broadcast.\n",
      "WARNING: MAC address to reach destination not found. Using broadcast.\n",
      "WARNING: MAC address to reach destination not found. Using broadcast.\n",
      "WARNING: MAC address to reach destination not found. Using broadcast.\n",
      "WARNING: MAC address to reach destination not found. Using broadcast.\n",
      "WARNING: MAC address to reach destination not found. Using broadcast.\n",
      "WARNING: MAC address to reach destination not found. Using broadcast.\n",
      "WARNING: MAC address to reach destination not found. Using broadcast.\n",
      "WARNING: MAC address to reach destination not found. Using broadcast.\n",
      "WARNING: MAC address to reach destination not found. Using broadcast.\n",
      "WARNING: MAC address to reach destination not found. Using broadcast.\n",
      "WARNING: MAC address to reach destination not found. Using broadcast.\n",
      "WARNING: MAC address to reach destination not found. Using broadcast.\n",
      "WARNING: MAC address to reach destination not found. Using broadcast.\n",
      "WARNING: MAC address to reach destination not found. Using broadcast.\n",
      "WARNING: MAC address to reach destination not found. Using broadcast.\n",
      "WARNING: MAC address to reach destination not found. Using broadcast.\n",
      "WARNING: MAC address to reach destination not found. Using broadcast.\n",
      "WARNING: MAC address to reach destination not found. Using broadcast.\n",
      "WARNING: MAC address to reach destination not found. Using broadcast.\n",
      "WARNING: MAC address to reach destination not found. Using broadcast.\n",
      "WARNING: MAC address to reach destination not found. Using broadcast.\n",
      "WARNING: MAC address to reach destination not found. Using broadcast.\n"
     ]
    }
   ],
   "source": [
    "import ipaddress\n",
    "from scapy.all import *\n",
    "\n",
    "def scan_network(network_range):\n",
    "    \"\"\"\n",
    "    Scan a network range to find active computers\n",
    "    network_range: like \"192.168.1.0/24\"\n",
    "    \"\"\"\n",
    "    print(f\"🔍 Scanning {network_range} for active computers...\")\n",
    "    \n",
    "    # Create list of all IP addresses in the range\n",
    "    network = ipaddress.IPv4Network(network_range, strict=False)\n",
    "    active_hosts = []\n",
    "    \n",
    "    for ip in network.hosts():\n",
    "        # Create a ping packet for each IP\n",
    "        ping = IP(dst=str(ip)) / ICMP()\n",
    "        \n",
    "        # Send and wait for response (timeout after 1 second)\n",
    "        response = sr1(ping, timeout=1, verbose=0)\n",
    "        \n",
    "        if response:\n",
    "            active_hosts.append(str(ip))\n",
    "            print(f\"✅ Found active computer: {ip}\")\n",
    "    \n",
    "    return active_hosts\n",
    "\n",
    "def get_my_network():\n",
    "    \"\"\"Figure out what network you're on\"\"\"\n",
    "    # Get your computer's IP address\n",
    "    my_ip = get_if_addr(conf.iface)\n",
    "    # Assume it's a /24 network (common for home/office)\n",
    "    network = \".\".join(my_ip.split(\".\")[:-1]) + \".0/24\"\n",
    "    return network\n",
    "\n",
    "# Run the scan\n",
    "my_network = get_my_network()\n",
    "print(f\"📍 Your network appears to be: {my_network}\")\n",
    "active_computers = scan_network(my_network)\n",
    "\n",
    "print(f\"\\n📊 Scan complete! Found {len(active_computers)} active computers:\")\n",
    "for computer in active_computers:\n",
    "    print(f\"  🔗 {computer}\")\n",
    "                "
   ]
  },
  {
   "cell_type": "code",
   "execution_count": 1,
   "id": "374d0401",
   "metadata": {},
   "outputs": [
    {
     "name": "stdout",
     "output_type": "stream",
     "text": [
      "Ping packet structure:\n",
      "###[ IP ]###\n",
      "  version   = 4\n",
      "  ihl       = None\n",
      "  tos       = 0x0\n",
      "  len       = None\n",
      "  id        = 1\n",
      "  flags     = \n",
      "  frag      = 0\n",
      "  ttl       = 64\n",
      "  proto     = icmp\n",
      "  chksum    = None\n",
      "  src       = 10.205.143.20\n",
      "  dst       = 8.8.8.8\n",
      "  \\options   \\\n",
      "###[ ICMP ]###\n",
      "     type      = echo-request\n",
      "     code      = 0\n",
      "     chksum    = None\n",
      "     id        = 0x0\n",
      "     seq       = 0x0\n",
      "     unused    = b''\n",
      "\n",
      "None\n",
      "Sending ping to Google...\n",
      "\n",
      "Received 57 packets, got 1 answers, remaining 0 packets\n",
      "Google responded!\n",
      "###[ IP ]###\n",
      "  version   = 4\n",
      "  ihl       = 5\n",
      "  tos       = 0x0\n",
      "  len       = 28\n",
      "  id        = 0\n",
      "  flags     = \n",
      "  frag      = 0\n",
      "  ttl       = 113\n",
      "  proto     = icmp\n",
      "  chksum    = 0x9ff0\n",
      "  src       = 8.8.8.8\n",
      "  dst       = 10.205.143.20\n",
      "  \\options   \\\n",
      "###[ ICMP ]###\n",
      "     type      = echo-reply\n",
      "     code      = 0\n",
      "     chksum    = 0x0\n",
      "     id        = 0x0\n",
      "     seq       = 0x0\n",
      "     unused    = b''\n",
      "\n",
      "None\n"
     ]
    }
   ],
   "source": [
    "from scapy.all import IP, ICMP, sr1\n",
    "\n",
    "# Let's add a ping request (like knocking on someone's door)\n",
    "ping_packet = IP(dst=\"8.8.8.8\") / ICMP()\n",
    "\n",
    "print(\"Ping packet structure:\")\n",
    "print(ping_packet.show())\n",
    "\n",
    "# Send the packet and wait for a response\n",
    "print(\"Sending ping to Google...\")\n",
    "response = sr1(ping_packet, timeout=2)\n",
    "\n",
    "if response:\n",
    "    print(\"Google responded!\")\n",
    "    print(response.show())\n",
    "else:\n",
    "    print(\"No response received\")\n",
    "                "
   ]
  }
 ],
 "metadata": {
  "kernelspec": {
   "display_name": "base",
   "language": "python",
   "name": "python3"
  },
  "language_info": {
   "codemirror_mode": {
    "name": "ipython",
    "version": 3
   },
   "file_extension": ".py",
   "mimetype": "text/x-python",
   "name": "python",
   "nbconvert_exporter": "python",
   "pygments_lexer": "ipython3",
   "version": "3.12.7"
  }
 },
 "nbformat": 4,
 "nbformat_minor": 5
}
